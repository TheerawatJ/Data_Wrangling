{
 "cells": [
  {
   "cell_type": "markdown",
   "metadata": {},
   "source": [
    "<h4 align = \"right\"> Theerawat Jindapoo </h4>"
   ]
  },
  {
   "cell_type": "markdown",
   "metadata": {},
   "source": [
    "# <center> Movie Industry Analysis in 2019 </center>"
   ]
  },
  {
   "cell_type": "markdown",
   "metadata": {},
   "source": [
    "## Objective"
   ]
  },
  {
   "cell_type": "markdown",
   "metadata": {},
   "source": [
    "#### The objective of this project is to analyze movie industry in 2019 for companies that want to sponsor in movies. The project will analyze in overall view and also small details to make is information benefits companies the most."
   ]
  },
  {
   "cell_type": "markdown",
   "metadata": {},
   "source": [
    "## Data Mining"
   ]
  },
  {
   "cell_type": "code",
   "execution_count": 238,
   "metadata": {},
   "outputs": [],
   "source": [
    "import requests\n",
    "import csv\n",
    "from bs4 import BeautifulSoup\n",
    "from IPython.display import Image\n",
    "from IPython.display import display\n",
    "import pandas as pd\n",
    "import numpy as np\n",
    "import matplotlib.pyplot as plt; plt.rcdefaults()\n",
    "import matplotlib.pyplot as plt\n",
    "from matplotlib.pyplot import figure\n",
    "from pylab import rcParams\n",
    "import seaborn as sns"
   ]
  },
  {
   "cell_type": "markdown",
   "metadata": {},
   "source": [
    "#### First, I used BeautifulSoup to extract informations for the website."
   ]
  },
  {
   "cell_type": "code",
   "execution_count": 2,
   "metadata": {},
   "outputs": [],
   "source": [
    "movie = requests.get(\"https://www.the-numbers.com/market/2019/top-grossing-movies\")"
   ]
  },
  {
   "cell_type": "code",
   "execution_count": 279,
   "metadata": {},
   "outputs": [],
   "source": [
    "data = BeautifulSoup(movie.content, \"lxml\")"
   ]
  },
  {
   "cell_type": "code",
   "execution_count": 280,
   "metadata": {
    "scrolled": true
   },
   "outputs": [
    {
     "name": "stdout",
     "output_type": "stream",
     "text": [
      "200\n"
     ]
    }
   ],
   "source": [
    "print(movie.status_code)"
   ]
  },
  {
   "cell_type": "code",
   "execution_count": 282,
   "metadata": {},
   "outputs": [],
   "source": [
    "text = data.text"
   ]
  },
  {
   "cell_type": "code",
   "execution_count": 283,
   "metadata": {},
   "outputs": [
    {
     "data": {
      "text/plain": [
       "str"
      ]
     },
     "execution_count": 283,
     "metadata": {},
     "output_type": "execute_result"
    }
   ],
   "source": [
    "type(text)"
   ]
  },
  {
   "cell_type": "code",
   "execution_count": 284,
   "metadata": {},
   "outputs": [
    {
     "data": {
      "text/plain": [
       "56610"
      ]
     },
     "execution_count": 284,
     "metadata": {},
     "output_type": "execute_result"
    }
   ],
   "source": [
    "len(text)"
   ]
  },
  {
   "cell_type": "markdown",
   "metadata": {},
   "source": [
    "#### Here I extracted description of the table from the website."
   ]
  },
  {
   "cell_type": "code",
   "execution_count": 22,
   "metadata": {
    "scrolled": true
   },
   "outputs": [
    {
     "name": "stdout",
     "output_type": "stream",
     "text": [
      "\n",
      "\n",
      "← 20182020 →\n",
      "\n",
      "\n",
      "Note: This chart ranks movies by the amount they earned during 2019.\r\n",
      "It includes movies released in previous years that earned money during 2019.\r\n",
      "For example, a movie released over Thanksgiving in 2018 will most likely earn money in 2018 and 2019.\r\n",
      "Click on the individual movie to see its total gross over all the years in which it played.\r\n",
      "Each box office year ends on the first Sunday of the following year.\r\n",
      "The next year starts the following day (Monday).\r\n",
      "For example, the \"2004 box office year\" ended on Sunday, January 2, 2005.\r\n",
      "Inflation-adjusted figures are based on ticket sale estimates.\r\n",
      "\r\n",
      "\n"
     ]
    }
   ],
   "source": [
    "print(text[text.find(\"Annual Movie Chart - 2019\")+len(\"Annual Movie Chart - 2019\"):text.find(\"See Top 2019 Movies\")])"
   ]
  },
  {
   "cell_type": "markdown",
   "metadata": {},
   "source": [
    "#### Then, I tried to display the logo of the website but you can see that in 'src', it was not a full link of the photo, it didn't start with https://. So, I need to place 'https://www.the-numbers.com' before that manually."
   ]
  },
  {
   "cell_type": "code",
   "execution_count": 23,
   "metadata": {},
   "outputs": [],
   "source": [
    "logo = data.find_all(\"img\", {\"src\": \"/images/the-numbers-banner.png\"})"
   ]
  },
  {
   "cell_type": "code",
   "execution_count": 24,
   "metadata": {},
   "outputs": [
    {
     "data": {
      "text/plain": [
       "[<img alt=\"The Numbers - Where Data and Movies Meet\" border=\"0\" height=\"67\" src=\"/images/the-numbers-banner.png\" width=\"524\"/>]"
      ]
     },
     "execution_count": 24,
     "metadata": {},
     "output_type": "execute_result"
    }
   ],
   "source": [
    "logo"
   ]
  },
  {
   "cell_type": "code",
   "execution_count": 26,
   "metadata": {},
   "outputs": [
    {
     "data": {
      "text/plain": [
       "'/images/the-numbers-banner.png'"
      ]
     },
     "execution_count": 26,
     "metadata": {},
     "output_type": "execute_result"
    }
   ],
   "source": [
    "logo[0]['src']"
   ]
  },
  {
   "cell_type": "code",
   "execution_count": 36,
   "metadata": {},
   "outputs": [],
   "source": [
    "logo_url = ('https://www.the-numbers.com/images/the-numbers-banner.png')"
   ]
  },
  {
   "cell_type": "code",
   "execution_count": 37,
   "metadata": {},
   "outputs": [
    {
     "data": {
      "text/html": [
       "<img src=\"https://www.the-numbers.com/images/the-numbers-banner.png\"/>"
      ],
      "text/plain": [
       "<IPython.core.display.Image object>"
      ]
     },
     "metadata": {},
     "output_type": "display_data"
    }
   ],
   "source": [
    "display(Image(url=logo_url))"
   ]
  },
  {
   "cell_type": "markdown",
   "metadata": {},
   "source": [
    "#### Then I started to extract the table and I saw that it had only 1 table"
   ]
  },
  {
   "cell_type": "code",
   "execution_count": 39,
   "metadata": {
    "scrolled": true
   },
   "outputs": [
    {
     "data": {
      "text/plain": [
       "1"
      ]
     },
     "execution_count": 39,
     "metadata": {},
     "output_type": "execute_result"
    }
   ],
   "source": [
    "len(data.find_all(\"table\"))"
   ]
  },
  {
   "cell_type": "code",
   "execution_count": 294,
   "metadata": {},
   "outputs": [],
   "source": [
    "table = data.find(\"table\")"
   ]
  },
  {
   "cell_type": "code",
   "execution_count": 295,
   "metadata": {},
   "outputs": [],
   "source": [
    "table_df = table.find_all('tr')"
   ]
  },
  {
   "cell_type": "code",
   "execution_count": 296,
   "metadata": {},
   "outputs": [],
   "source": [
    "ta = []\n",
    "for x in table_df:\n",
    "    td = x.find_all('td')\n",
    "    ap = [x.text for x in td]\n",
    "    ta.append(ap)"
   ]
  },
  {
   "cell_type": "markdown",
   "metadata": {},
   "source": [
    "#### In the table, 'tr' is each row and 'td' is each detail in that row, so I used loop to extract all details out and create dataframe"
   ]
  },
  {
   "cell_type": "code",
   "execution_count": 297,
   "metadata": {
    "scrolled": true
   },
   "outputs": [],
   "source": [
    "df = pd.DataFrame(ta, columns = [\"Rank\", \"Movie\", \"Release_Date\", \"Distributor\", \"Genre\", \"Gross\", \"Tickets_Sold\"])"
   ]
  },
  {
   "cell_type": "code",
   "execution_count": 299,
   "metadata": {
    "scrolled": true
   },
   "outputs": [
    {
     "data": {
      "text/html": [
       "<div>\n",
       "<style scoped>\n",
       "    .dataframe tbody tr th:only-of-type {\n",
       "        vertical-align: middle;\n",
       "    }\n",
       "\n",
       "    .dataframe tbody tr th {\n",
       "        vertical-align: top;\n",
       "    }\n",
       "\n",
       "    .dataframe thead th {\n",
       "        text-align: right;\n",
       "    }\n",
       "</style>\n",
       "<table border=\"1\" class=\"dataframe\">\n",
       "  <thead>\n",
       "    <tr style=\"text-align: right;\">\n",
       "      <th></th>\n",
       "      <th>Rank</th>\n",
       "      <th>Movie</th>\n",
       "      <th>Release_Date</th>\n",
       "      <th>Distributor</th>\n",
       "      <th>Genre</th>\n",
       "      <th>Gross</th>\n",
       "      <th>Tickets_Sold</th>\n",
       "    </tr>\n",
       "  </thead>\n",
       "  <tbody>\n",
       "    <tr>\n",
       "      <td>0</td>\n",
       "      <td>None</td>\n",
       "      <td>None</td>\n",
       "      <td>None</td>\n",
       "      <td>None</td>\n",
       "      <td>None</td>\n",
       "      <td>None</td>\n",
       "      <td>None</td>\n",
       "    </tr>\n",
       "    <tr>\n",
       "      <td>1</td>\n",
       "      <td>1</td>\n",
       "      <td>Avengers: Endgame</td>\n",
       "      <td>Apr 26, 2019</td>\n",
       "      <td>Walt Disney</td>\n",
       "      <td>Action</td>\n",
       "      <td>$858,373,000</td>\n",
       "      <td>94,223,161</td>\n",
       "    </tr>\n",
       "    <tr>\n",
       "      <td>2</td>\n",
       "      <td>2</td>\n",
       "      <td>The Lion King</td>\n",
       "      <td>Jul 19, 2019</td>\n",
       "      <td>Walt Disney</td>\n",
       "      <td>Adventure</td>\n",
       "      <td>$543,638,043</td>\n",
       "      <td>59,674,868</td>\n",
       "    </tr>\n",
       "    <tr>\n",
       "      <td>3</td>\n",
       "      <td>3</td>\n",
       "      <td>Star Wars: The Rise of Skyw…</td>\n",
       "      <td>Dec 20, 2019</td>\n",
       "      <td>Walt Disney</td>\n",
       "      <td>Adventure</td>\n",
       "      <td>$451,582,256</td>\n",
       "      <td>49,569,951</td>\n",
       "    </tr>\n",
       "    <tr>\n",
       "      <td>4</td>\n",
       "      <td>4</td>\n",
       "      <td>Frozen II</td>\n",
       "      <td>Nov 22, 2019</td>\n",
       "      <td>Walt Disney</td>\n",
       "      <td>Adventure</td>\n",
       "      <td>$450,439,533</td>\n",
       "      <td>49,444,515</td>\n",
       "    </tr>\n",
       "  </tbody>\n",
       "</table>\n",
       "</div>"
      ],
      "text/plain": [
       "   Rank                         Movie  Release_Date  Distributor      Genre  \\\n",
       "0  None                          None          None         None       None   \n",
       "1     1             Avengers: Endgame  Apr 26, 2019  Walt Disney     Action   \n",
       "2     2                 The Lion King  Jul 19, 2019  Walt Disney  Adventure   \n",
       "3     3  Star Wars: The Rise of Skyw…  Dec 20, 2019  Walt Disney  Adventure   \n",
       "4     4                     Frozen II  Nov 22, 2019  Walt Disney  Adventure   \n",
       "\n",
       "          Gross Tickets_Sold  \n",
       "0          None         None  \n",
       "1  $858,373,000   94,223,161  \n",
       "2  $543,638,043   59,674,868  \n",
       "3  $451,582,256   49,569,951  \n",
       "4  $450,439,533   49,444,515  "
      ]
     },
     "execution_count": 299,
     "metadata": {},
     "output_type": "execute_result"
    }
   ],
   "source": [
    "df.head()"
   ]
  },
  {
   "cell_type": "code",
   "execution_count": 300,
   "metadata": {},
   "outputs": [],
   "source": [
    "df = df.dropna()"
   ]
  },
  {
   "cell_type": "markdown",
   "metadata": {},
   "source": [
    "#### Here I want to see how many Distributor it have in this data and how many record per distributor. Turn out that there are 129 distributors in this data, which are a lot."
   ]
  },
  {
   "cell_type": "code",
   "execution_count": 301,
   "metadata": {
    "scrolled": true
   },
   "outputs": [
    {
     "data": {
      "text/plain": [
       "Warner Bros.          43\n",
       "Universal             26\n",
       "Sony Pictures         24\n",
       "Well Go USA           23\n",
       "IFC Films             23\n",
       "                      ..\n",
       "Super LTD              1\n",
       "Santa Rita Film Co     1\n",
       "Arthur Davis Asso…     1\n",
       "International Fil…     1\n",
       "                       1\n",
       "Name: Distributor, Length: 129, dtype: int64"
      ]
     },
     "execution_count": 301,
     "metadata": {},
     "output_type": "execute_result"
    }
   ],
   "source": [
    "df[\"Distributor\"].value_counts()"
   ]
  },
  {
   "cell_type": "code",
   "execution_count": 302,
   "metadata": {
    "scrolled": false
   },
   "outputs": [
    {
     "data": {
      "text/plain": [
       "129"
      ]
     },
     "execution_count": 302,
     "metadata": {},
     "output_type": "execute_result"
    }
   ],
   "source": [
    "len(df[\"Distributor\"].value_counts())"
   ]
  },
  {
   "cell_type": "markdown",
   "metadata": {},
   "source": [
    "#### Then, I select only top10 (I didn't have to sort in because the website already ranked it)"
   ]
  },
  {
   "cell_type": "code",
   "execution_count": 303,
   "metadata": {
    "scrolled": true
   },
   "outputs": [
    {
     "data": {
      "text/html": [
       "<div>\n",
       "<style scoped>\n",
       "    .dataframe tbody tr th:only-of-type {\n",
       "        vertical-align: middle;\n",
       "    }\n",
       "\n",
       "    .dataframe tbody tr th {\n",
       "        vertical-align: top;\n",
       "    }\n",
       "\n",
       "    .dataframe thead th {\n",
       "        text-align: right;\n",
       "    }\n",
       "</style>\n",
       "<table border=\"1\" class=\"dataframe\">\n",
       "  <thead>\n",
       "    <tr style=\"text-align: right;\">\n",
       "      <th></th>\n",
       "      <th>Rank</th>\n",
       "      <th>Movie</th>\n",
       "      <th>Release_Date</th>\n",
       "      <th>Distributor</th>\n",
       "      <th>Genre</th>\n",
       "      <th>Gross</th>\n",
       "      <th>Tickets_Sold</th>\n",
       "    </tr>\n",
       "  </thead>\n",
       "  <tbody>\n",
       "    <tr>\n",
       "      <td>1</td>\n",
       "      <td>1</td>\n",
       "      <td>Avengers: Endgame</td>\n",
       "      <td>Apr 26, 2019</td>\n",
       "      <td>Walt Disney</td>\n",
       "      <td>Action</td>\n",
       "      <td>$858,373,000</td>\n",
       "      <td>94,223,161</td>\n",
       "    </tr>\n",
       "    <tr>\n",
       "      <td>2</td>\n",
       "      <td>2</td>\n",
       "      <td>The Lion King</td>\n",
       "      <td>Jul 19, 2019</td>\n",
       "      <td>Walt Disney</td>\n",
       "      <td>Adventure</td>\n",
       "      <td>$543,638,043</td>\n",
       "      <td>59,674,868</td>\n",
       "    </tr>\n",
       "    <tr>\n",
       "      <td>3</td>\n",
       "      <td>3</td>\n",
       "      <td>Star Wars: The Rise of Skyw…</td>\n",
       "      <td>Dec 20, 2019</td>\n",
       "      <td>Walt Disney</td>\n",
       "      <td>Adventure</td>\n",
       "      <td>$451,582,256</td>\n",
       "      <td>49,569,951</td>\n",
       "    </tr>\n",
       "    <tr>\n",
       "      <td>4</td>\n",
       "      <td>4</td>\n",
       "      <td>Frozen II</td>\n",
       "      <td>Nov 22, 2019</td>\n",
       "      <td>Walt Disney</td>\n",
       "      <td>Adventure</td>\n",
       "      <td>$450,439,533</td>\n",
       "      <td>49,444,515</td>\n",
       "    </tr>\n",
       "    <tr>\n",
       "      <td>5</td>\n",
       "      <td>5</td>\n",
       "      <td>Toy Story 4</td>\n",
       "      <td>Jun 21, 2019</td>\n",
       "      <td>Walt Disney</td>\n",
       "      <td>Adventure</td>\n",
       "      <td>$434,038,008</td>\n",
       "      <td>47,644,128</td>\n",
       "    </tr>\n",
       "    <tr>\n",
       "      <td>6</td>\n",
       "      <td>6</td>\n",
       "      <td>Captain Marvel</td>\n",
       "      <td>Mar 8, 2019</td>\n",
       "      <td>Walt Disney</td>\n",
       "      <td>Action</td>\n",
       "      <td>$426,829,839</td>\n",
       "      <td>46,852,891</td>\n",
       "    </tr>\n",
       "    <tr>\n",
       "      <td>7</td>\n",
       "      <td>7</td>\n",
       "      <td>Spider-Man: Far From Home</td>\n",
       "      <td>Jul 2, 2019</td>\n",
       "      <td>Sony Pictures</td>\n",
       "      <td>Action</td>\n",
       "      <td>$390,532,085</td>\n",
       "      <td>42,868,505</td>\n",
       "    </tr>\n",
       "    <tr>\n",
       "      <td>8</td>\n",
       "      <td>8</td>\n",
       "      <td>Aladdin</td>\n",
       "      <td>May 24, 2019</td>\n",
       "      <td>Walt Disney</td>\n",
       "      <td>Adventure</td>\n",
       "      <td>$355,559,216</td>\n",
       "      <td>39,029,552</td>\n",
       "    </tr>\n",
       "    <tr>\n",
       "      <td>9</td>\n",
       "      <td>9</td>\n",
       "      <td>Joker</td>\n",
       "      <td>Oct 4, 2019</td>\n",
       "      <td>Warner Bros.</td>\n",
       "      <td>Thriller/Suspense</td>\n",
       "      <td>$333,985,454</td>\n",
       "      <td>36,661,410</td>\n",
       "    </tr>\n",
       "    <tr>\n",
       "      <td>10</td>\n",
       "      <td>10</td>\n",
       "      <td>Jumanji: The Next Level</td>\n",
       "      <td>Dec 13, 2019</td>\n",
       "      <td>Sony Pictures</td>\n",
       "      <td>Adventure</td>\n",
       "      <td>$235,933,751</td>\n",
       "      <td>25,898,326</td>\n",
       "    </tr>\n",
       "  </tbody>\n",
       "</table>\n",
       "</div>"
      ],
      "text/plain": [
       "   Rank                         Movie  Release_Date    Distributor  \\\n",
       "1     1             Avengers: Endgame  Apr 26, 2019    Walt Disney   \n",
       "2     2                 The Lion King  Jul 19, 2019    Walt Disney   \n",
       "3     3  Star Wars: The Rise of Skyw…  Dec 20, 2019    Walt Disney   \n",
       "4     4                     Frozen II  Nov 22, 2019    Walt Disney   \n",
       "5     5                   Toy Story 4  Jun 21, 2019    Walt Disney   \n",
       "6     6                Captain Marvel   Mar 8, 2019    Walt Disney   \n",
       "7     7     Spider-Man: Far From Home   Jul 2, 2019  Sony Pictures   \n",
       "8     8                       Aladdin  May 24, 2019    Walt Disney   \n",
       "9     9                         Joker   Oct 4, 2019   Warner Bros.   \n",
       "10   10       Jumanji: The Next Level  Dec 13, 2019  Sony Pictures   \n",
       "\n",
       "                Genre         Gross Tickets_Sold  \n",
       "1              Action  $858,373,000   94,223,161  \n",
       "2           Adventure  $543,638,043   59,674,868  \n",
       "3           Adventure  $451,582,256   49,569,951  \n",
       "4           Adventure  $450,439,533   49,444,515  \n",
       "5           Adventure  $434,038,008   47,644,128  \n",
       "6              Action  $426,829,839   46,852,891  \n",
       "7              Action  $390,532,085   42,868,505  \n",
       "8           Adventure  $355,559,216   39,029,552  \n",
       "9   Thriller/Suspense  $333,985,454   36,661,410  \n",
       "10          Adventure  $235,933,751   25,898,326  "
      ]
     },
     "execution_count": 303,
     "metadata": {},
     "output_type": "execute_result"
    }
   ],
   "source": [
    "top = df.iloc[:10]\n",
    "top"
   ]
  },
  {
   "cell_type": "markdown",
   "metadata": {},
   "source": [
    "#### From top 10 movies that earned the most gross income in 2019, 7 out of 10 are Walt Disney's movies, 2 out of 10 are Sony's movies and 1 out of 10 is Warner Bros's movie."
   ]
  },
  {
   "cell_type": "code",
   "execution_count": 304,
   "metadata": {
    "scrolled": true
   },
   "outputs": [
    {
     "data": {
      "text/plain": [
       "Walt Disney      7\n",
       "Sony Pictures    2\n",
       "Warner Bros.     1\n",
       "Name: Distributor, dtype: int64"
      ]
     },
     "execution_count": 304,
     "metadata": {},
     "output_type": "execute_result"
    }
   ],
   "source": [
    "top[\"Distributor\"].value_counts()"
   ]
  },
  {
   "cell_type": "code",
   "execution_count": 305,
   "metadata": {
    "scrolled": true
   },
   "outputs": [
    {
     "data": {
      "text/html": [
       "<div>\n",
       "<style scoped>\n",
       "    .dataframe tbody tr th:only-of-type {\n",
       "        vertical-align: middle;\n",
       "    }\n",
       "\n",
       "    .dataframe tbody tr th {\n",
       "        vertical-align: top;\n",
       "    }\n",
       "\n",
       "    .dataframe thead th {\n",
       "        text-align: right;\n",
       "    }\n",
       "</style>\n",
       "<table border=\"1\" class=\"dataframe\">\n",
       "  <thead>\n",
       "    <tr style=\"text-align: right;\">\n",
       "      <th></th>\n",
       "      <th>Rank</th>\n",
       "      <th>Movie</th>\n",
       "      <th>Release_Date</th>\n",
       "      <th>Distributor</th>\n",
       "      <th>Gross</th>\n",
       "      <th>Tickets_Sold</th>\n",
       "    </tr>\n",
       "    <tr>\n",
       "      <th>Genre</th>\n",
       "      <th></th>\n",
       "      <th></th>\n",
       "      <th></th>\n",
       "      <th></th>\n",
       "      <th></th>\n",
       "      <th></th>\n",
       "    </tr>\n",
       "  </thead>\n",
       "  <tbody>\n",
       "    <tr>\n",
       "      <td>Action</td>\n",
       "      <td>167</td>\n",
       "      <td>Avengers: EndgameCaptain MarvelSpider-Man: Far...</td>\n",
       "      <td>Apr 26, 2019Mar 8, 2019Jul 2, 2019</td>\n",
       "      <td>Walt DisneyWalt DisneySony Pictures</td>\n",
       "      <td>$858,373,000$426,829,839$390,532,085</td>\n",
       "      <td>94,223,16146,852,89142,868,505</td>\n",
       "    </tr>\n",
       "    <tr>\n",
       "      <td>Adventure</td>\n",
       "      <td>2345810</td>\n",
       "      <td>The Lion KingStar Wars: The Rise of Skyw…Froze...</td>\n",
       "      <td>Jul 19, 2019Dec 20, 2019Nov 22, 2019Jun 21, 20...</td>\n",
       "      <td>Walt DisneyWalt DisneyWalt DisneyWalt DisneyWa...</td>\n",
       "      <td>$543,638,043$451,582,256$450,439,533$434,038,0...</td>\n",
       "      <td>59,674,86849,569,95149,444,51547,644,12839,029...</td>\n",
       "    </tr>\n",
       "    <tr>\n",
       "      <td>Thriller/Suspense</td>\n",
       "      <td>9</td>\n",
       "      <td>Joker</td>\n",
       "      <td>Oct 4, 2019</td>\n",
       "      <td>Warner Bros.</td>\n",
       "      <td>$333,985,454</td>\n",
       "      <td>36,661,410</td>\n",
       "    </tr>\n",
       "  </tbody>\n",
       "</table>\n",
       "</div>"
      ],
      "text/plain": [
       "                      Rank                                              Movie  \\\n",
       "Genre                                                                           \n",
       "Action                 167  Avengers: EndgameCaptain MarvelSpider-Man: Far...   \n",
       "Adventure          2345810  The Lion KingStar Wars: The Rise of Skyw…Froze...   \n",
       "Thriller/Suspense        9                                              Joker   \n",
       "\n",
       "                                                        Release_Date  \\\n",
       "Genre                                                                  \n",
       "Action                            Apr 26, 2019Mar 8, 2019Jul 2, 2019   \n",
       "Adventure          Jul 19, 2019Dec 20, 2019Nov 22, 2019Jun 21, 20...   \n",
       "Thriller/Suspense                                        Oct 4, 2019   \n",
       "\n",
       "                                                         Distributor  \\\n",
       "Genre                                                                  \n",
       "Action                           Walt DisneyWalt DisneySony Pictures   \n",
       "Adventure          Walt DisneyWalt DisneyWalt DisneyWalt DisneyWa...   \n",
       "Thriller/Suspense                                       Warner Bros.   \n",
       "\n",
       "                                                               Gross  \\\n",
       "Genre                                                                  \n",
       "Action                          $858,373,000$426,829,839$390,532,085   \n",
       "Adventure          $543,638,043$451,582,256$450,439,533$434,038,0...   \n",
       "Thriller/Suspense                                       $333,985,454   \n",
       "\n",
       "                                                        Tickets_Sold  \n",
       "Genre                                                                 \n",
       "Action                                94,223,16146,852,89142,868,505  \n",
       "Adventure          59,674,86849,569,95149,444,51547,644,12839,029...  \n",
       "Thriller/Suspense                                         36,661,410  "
      ]
     },
     "execution_count": 305,
     "metadata": {},
     "output_type": "execute_result"
    }
   ],
   "source": [
    "top.groupby([\"Genre\"]).sum()"
   ]
  },
  {
   "cell_type": "markdown",
   "metadata": {},
   "source": [
    "####  When I tried to sum it by Genre, there was a problem. Gross and Tickets_Sold were not integer, so I need to change them into integer."
   ]
  },
  {
   "cell_type": "code",
   "execution_count": 306,
   "metadata": {
    "scrolled": true
   },
   "outputs": [],
   "source": [
    "df[df.columns[5:]] = df[df.columns[5:]].apply(lambda x: x.str.replace('$','')).apply(lambda x: x.str.replace(',','')).astype(np.int64)"
   ]
  },
  {
   "cell_type": "code",
   "execution_count": 308,
   "metadata": {},
   "outputs": [
    {
     "data": {
      "text/html": [
       "<div>\n",
       "<style scoped>\n",
       "    .dataframe tbody tr th:only-of-type {\n",
       "        vertical-align: middle;\n",
       "    }\n",
       "\n",
       "    .dataframe tbody tr th {\n",
       "        vertical-align: top;\n",
       "    }\n",
       "\n",
       "    .dataframe thead th {\n",
       "        text-align: right;\n",
       "    }\n",
       "</style>\n",
       "<table border=\"1\" class=\"dataframe\">\n",
       "  <thead>\n",
       "    <tr style=\"text-align: right;\">\n",
       "      <th></th>\n",
       "      <th>Rank</th>\n",
       "      <th>Movie</th>\n",
       "      <th>Release_Date</th>\n",
       "      <th>Distributor</th>\n",
       "      <th>Genre</th>\n",
       "      <th>Gross</th>\n",
       "      <th>Tickets_Sold</th>\n",
       "    </tr>\n",
       "  </thead>\n",
       "  <tbody>\n",
       "    <tr>\n",
       "      <td>1</td>\n",
       "      <td>1</td>\n",
       "      <td>Avengers: Endgame</td>\n",
       "      <td>Apr 26, 2019</td>\n",
       "      <td>Walt Disney</td>\n",
       "      <td>Action</td>\n",
       "      <td>858373000</td>\n",
       "      <td>94223161</td>\n",
       "    </tr>\n",
       "    <tr>\n",
       "      <td>2</td>\n",
       "      <td>2</td>\n",
       "      <td>The Lion King</td>\n",
       "      <td>Jul 19, 2019</td>\n",
       "      <td>Walt Disney</td>\n",
       "      <td>Adventure</td>\n",
       "      <td>543638043</td>\n",
       "      <td>59674868</td>\n",
       "    </tr>\n",
       "    <tr>\n",
       "      <td>3</td>\n",
       "      <td>3</td>\n",
       "      <td>Star Wars: The Rise of Skyw…</td>\n",
       "      <td>Dec 20, 2019</td>\n",
       "      <td>Walt Disney</td>\n",
       "      <td>Adventure</td>\n",
       "      <td>451582256</td>\n",
       "      <td>49569951</td>\n",
       "    </tr>\n",
       "    <tr>\n",
       "      <td>4</td>\n",
       "      <td>4</td>\n",
       "      <td>Frozen II</td>\n",
       "      <td>Nov 22, 2019</td>\n",
       "      <td>Walt Disney</td>\n",
       "      <td>Adventure</td>\n",
       "      <td>450439533</td>\n",
       "      <td>49444515</td>\n",
       "    </tr>\n",
       "    <tr>\n",
       "      <td>5</td>\n",
       "      <td>5</td>\n",
       "      <td>Toy Story 4</td>\n",
       "      <td>Jun 21, 2019</td>\n",
       "      <td>Walt Disney</td>\n",
       "      <td>Adventure</td>\n",
       "      <td>434038008</td>\n",
       "      <td>47644128</td>\n",
       "    </tr>\n",
       "  </tbody>\n",
       "</table>\n",
       "</div>"
      ],
      "text/plain": [
       "  Rank                         Movie  Release_Date  Distributor      Genre  \\\n",
       "1    1             Avengers: Endgame  Apr 26, 2019  Walt Disney     Action   \n",
       "2    2                 The Lion King  Jul 19, 2019  Walt Disney  Adventure   \n",
       "3    3  Star Wars: The Rise of Skyw…  Dec 20, 2019  Walt Disney  Adventure   \n",
       "4    4                     Frozen II  Nov 22, 2019  Walt Disney  Adventure   \n",
       "5    5                   Toy Story 4  Jun 21, 2019  Walt Disney  Adventure   \n",
       "\n",
       "       Gross  Tickets_Sold  \n",
       "1  858373000      94223161  \n",
       "2  543638043      59674868  \n",
       "3  451582256      49569951  \n",
       "4  450439533      49444515  \n",
       "5  434038008      47644128  "
      ]
     },
     "execution_count": 308,
     "metadata": {},
     "output_type": "execute_result"
    }
   ],
   "source": [
    "df.head()"
   ]
  },
  {
   "cell_type": "markdown",
   "metadata": {},
   "source": [
    "#### I stored every disney informations into 'disney' variable."
   ]
  },
  {
   "cell_type": "code",
   "execution_count": 309,
   "metadata": {},
   "outputs": [],
   "source": [
    "disney = df[df[\"Distributor\"] == \"Walt Disney\"]"
   ]
  },
  {
   "cell_type": "code",
   "execution_count": 310,
   "metadata": {},
   "outputs": [
    {
     "data": {
      "text/html": [
       "<div>\n",
       "<style scoped>\n",
       "    .dataframe tbody tr th:only-of-type {\n",
       "        vertical-align: middle;\n",
       "    }\n",
       "\n",
       "    .dataframe tbody tr th {\n",
       "        vertical-align: top;\n",
       "    }\n",
       "\n",
       "    .dataframe thead th {\n",
       "        text-align: right;\n",
       "    }\n",
       "</style>\n",
       "<table border=\"1\" class=\"dataframe\">\n",
       "  <thead>\n",
       "    <tr style=\"text-align: right;\">\n",
       "      <th></th>\n",
       "      <th>Rank</th>\n",
       "      <th>Movie</th>\n",
       "      <th>Release_Date</th>\n",
       "      <th>Distributor</th>\n",
       "      <th>Genre</th>\n",
       "      <th>Gross</th>\n",
       "      <th>Tickets_Sold</th>\n",
       "    </tr>\n",
       "  </thead>\n",
       "  <tbody>\n",
       "    <tr>\n",
       "      <td>1</td>\n",
       "      <td>1</td>\n",
       "      <td>Avengers: Endgame</td>\n",
       "      <td>Apr 26, 2019</td>\n",
       "      <td>Walt Disney</td>\n",
       "      <td>Action</td>\n",
       "      <td>858373000</td>\n",
       "      <td>94223161</td>\n",
       "    </tr>\n",
       "    <tr>\n",
       "      <td>2</td>\n",
       "      <td>2</td>\n",
       "      <td>The Lion King</td>\n",
       "      <td>Jul 19, 2019</td>\n",
       "      <td>Walt Disney</td>\n",
       "      <td>Adventure</td>\n",
       "      <td>543638043</td>\n",
       "      <td>59674868</td>\n",
       "    </tr>\n",
       "    <tr>\n",
       "      <td>3</td>\n",
       "      <td>3</td>\n",
       "      <td>Star Wars: The Rise of Skyw…</td>\n",
       "      <td>Dec 20, 2019</td>\n",
       "      <td>Walt Disney</td>\n",
       "      <td>Adventure</td>\n",
       "      <td>451582256</td>\n",
       "      <td>49569951</td>\n",
       "    </tr>\n",
       "    <tr>\n",
       "      <td>4</td>\n",
       "      <td>4</td>\n",
       "      <td>Frozen II</td>\n",
       "      <td>Nov 22, 2019</td>\n",
       "      <td>Walt Disney</td>\n",
       "      <td>Adventure</td>\n",
       "      <td>450439533</td>\n",
       "      <td>49444515</td>\n",
       "    </tr>\n",
       "    <tr>\n",
       "      <td>5</td>\n",
       "      <td>5</td>\n",
       "      <td>Toy Story 4</td>\n",
       "      <td>Jun 21, 2019</td>\n",
       "      <td>Walt Disney</td>\n",
       "      <td>Adventure</td>\n",
       "      <td>434038008</td>\n",
       "      <td>47644128</td>\n",
       "    </tr>\n",
       "  </tbody>\n",
       "</table>\n",
       "</div>"
      ],
      "text/plain": [
       "  Rank                         Movie  Release_Date  Distributor      Genre  \\\n",
       "1    1             Avengers: Endgame  Apr 26, 2019  Walt Disney     Action   \n",
       "2    2                 The Lion King  Jul 19, 2019  Walt Disney  Adventure   \n",
       "3    3  Star Wars: The Rise of Skyw…  Dec 20, 2019  Walt Disney  Adventure   \n",
       "4    4                     Frozen II  Nov 22, 2019  Walt Disney  Adventure   \n",
       "5    5                   Toy Story 4  Jun 21, 2019  Walt Disney  Adventure   \n",
       "\n",
       "       Gross  Tickets_Sold  \n",
       "1  858373000      94223161  \n",
       "2  543638043      59674868  \n",
       "3  451582256      49569951  \n",
       "4  450439533      49444515  \n",
       "5  434038008      47644128  "
      ]
     },
     "execution_count": 310,
     "metadata": {},
     "output_type": "execute_result"
    }
   ],
   "source": [
    "disney.head()"
   ]
  },
  {
   "cell_type": "markdown",
   "metadata": {},
   "source": [
    "#### Also with Universal"
   ]
  },
  {
   "cell_type": "code",
   "execution_count": 311,
   "metadata": {},
   "outputs": [
    {
     "data": {
      "text/html": [
       "<div>\n",
       "<style scoped>\n",
       "    .dataframe tbody tr th:only-of-type {\n",
       "        vertical-align: middle;\n",
       "    }\n",
       "\n",
       "    .dataframe tbody tr th {\n",
       "        vertical-align: top;\n",
       "    }\n",
       "\n",
       "    .dataframe thead th {\n",
       "        text-align: right;\n",
       "    }\n",
       "</style>\n",
       "<table border=\"1\" class=\"dataframe\">\n",
       "  <thead>\n",
       "    <tr style=\"text-align: right;\">\n",
       "      <th></th>\n",
       "      <th>Rank</th>\n",
       "      <th>Movie</th>\n",
       "      <th>Release_Date</th>\n",
       "      <th>Distributor</th>\n",
       "      <th>Genre</th>\n",
       "      <th>Gross</th>\n",
       "      <th>Tickets_Sold</th>\n",
       "    </tr>\n",
       "  </thead>\n",
       "  <tbody>\n",
       "    <tr>\n",
       "      <td>12</td>\n",
       "      <td>12</td>\n",
       "      <td>Us</td>\n",
       "      <td>Mar 22, 2019</td>\n",
       "      <td>Universal</td>\n",
       "      <td>Thriller/Suspense</td>\n",
       "      <td>175084580</td>\n",
       "      <td>19218944</td>\n",
       "    </tr>\n",
       "    <tr>\n",
       "      <td>13</td>\n",
       "      <td>13</td>\n",
       "      <td>Fast &amp; Furious Presents: Ho…</td>\n",
       "      <td>Aug 2, 2019</td>\n",
       "      <td>Universal</td>\n",
       "      <td>Action</td>\n",
       "      <td>173956935</td>\n",
       "      <td>19095163</td>\n",
       "    </tr>\n",
       "    <tr>\n",
       "      <td>15</td>\n",
       "      <td>15</td>\n",
       "      <td>How to Train Your Dragon: T…</td>\n",
       "      <td>Feb 22, 2019</td>\n",
       "      <td>Universal</td>\n",
       "      <td>Adventure</td>\n",
       "      <td>160799505</td>\n",
       "      <td>17650879</td>\n",
       "    </tr>\n",
       "    <tr>\n",
       "      <td>16</td>\n",
       "      <td>16</td>\n",
       "      <td>The Secret Life of Pets 2</td>\n",
       "      <td>Jun 7, 2019</td>\n",
       "      <td>Universal</td>\n",
       "      <td>Adventure</td>\n",
       "      <td>158874395</td>\n",
       "      <td>17439560</td>\n",
       "    </tr>\n",
       "    <tr>\n",
       "      <td>24</td>\n",
       "      <td>24</td>\n",
       "      <td>Glass</td>\n",
       "      <td>Jan 18, 2019</td>\n",
       "      <td>Universal</td>\n",
       "      <td>Thriller/Suspense</td>\n",
       "      <td>111048468</td>\n",
       "      <td>12189733</td>\n",
       "    </tr>\n",
       "  </tbody>\n",
       "</table>\n",
       "</div>"
      ],
      "text/plain": [
       "   Rank                         Movie  Release_Date Distributor  \\\n",
       "12   12                            Us  Mar 22, 2019   Universal   \n",
       "13   13  Fast & Furious Presents: Ho…   Aug 2, 2019   Universal   \n",
       "15   15  How to Train Your Dragon: T…  Feb 22, 2019   Universal   \n",
       "16   16     The Secret Life of Pets 2   Jun 7, 2019   Universal   \n",
       "24   24                         Glass  Jan 18, 2019   Universal   \n",
       "\n",
       "                Genre      Gross  Tickets_Sold  \n",
       "12  Thriller/Suspense  175084580      19218944  \n",
       "13             Action  173956935      19095163  \n",
       "15          Adventure  160799505      17650879  \n",
       "16          Adventure  158874395      17439560  \n",
       "24  Thriller/Suspense  111048468      12189733  "
      ]
     },
     "execution_count": 311,
     "metadata": {},
     "output_type": "execute_result"
    }
   ],
   "source": [
    "universal = df[df[\"Distributor\"] == \"Universal\"]\n",
    "universal.head()"
   ]
  },
  {
   "cell_type": "code",
   "execution_count": 312,
   "metadata": {},
   "outputs": [],
   "source": [
    "money = df[[\"Distributor\", \"Gross\"]]"
   ]
  },
  {
   "cell_type": "markdown",
   "metadata": {},
   "source": [
    "#### Then I want to see top 5 Distributors that made the most gross income in 2019."
   ]
  },
  {
   "cell_type": "code",
   "execution_count": 314,
   "metadata": {},
   "outputs": [
    {
     "data": {
      "text/html": [
       "<div>\n",
       "<style scoped>\n",
       "    .dataframe tbody tr th:only-of-type {\n",
       "        vertical-align: middle;\n",
       "    }\n",
       "\n",
       "    .dataframe tbody tr th {\n",
       "        vertical-align: top;\n",
       "    }\n",
       "\n",
       "    .dataframe thead th {\n",
       "        text-align: right;\n",
       "    }\n",
       "</style>\n",
       "<table border=\"1\" class=\"dataframe\">\n",
       "  <thead>\n",
       "    <tr style=\"text-align: right;\">\n",
       "      <th></th>\n",
       "      <th>Gross</th>\n",
       "    </tr>\n",
       "    <tr>\n",
       "      <th>Distributor</th>\n",
       "      <th></th>\n",
       "    </tr>\n",
       "  </thead>\n",
       "  <tbody>\n",
       "    <tr>\n",
       "      <td>Walt Disney</td>\n",
       "      <td>3803611686</td>\n",
       "    </tr>\n",
       "    <tr>\n",
       "      <td>Warner Bros.</td>\n",
       "      <td>1574147220</td>\n",
       "    </tr>\n",
       "    <tr>\n",
       "      <td>Sony Pictures</td>\n",
       "      <td>1374824330</td>\n",
       "    </tr>\n",
       "    <tr>\n",
       "      <td>Universal</td>\n",
       "      <td>1308647371</td>\n",
       "    </tr>\n",
       "    <tr>\n",
       "      <td>Lionsgate</td>\n",
       "      <td>797851162</td>\n",
       "    </tr>\n",
       "  </tbody>\n",
       "</table>\n",
       "</div>"
      ],
      "text/plain": [
       "                    Gross\n",
       "Distributor              \n",
       "Walt Disney    3803611686\n",
       "Warner Bros.   1574147220\n",
       "Sony Pictures  1374824330\n",
       "Universal      1308647371\n",
       "Lionsgate       797851162"
      ]
     },
     "execution_count": 314,
     "metadata": {},
     "output_type": "execute_result"
    }
   ],
   "source": [
    "money_sum = money.groupby(['Distributor']).sum()\n",
    "money_sum = money_sum.sort_values(by = ['Gross'], ascending = False)\n",
    "money_sum.head(5)"
   ]
  },
  {
   "cell_type": "markdown",
   "metadata": {},
   "source": [
    "#### I also want to see top 5 Genre that made the most gross income in 2019."
   ]
  },
  {
   "cell_type": "code",
   "execution_count": 315,
   "metadata": {},
   "outputs": [
    {
     "data": {
      "text/html": [
       "<div>\n",
       "<style scoped>\n",
       "    .dataframe tbody tr th:only-of-type {\n",
       "        vertical-align: middle;\n",
       "    }\n",
       "\n",
       "    .dataframe tbody tr th {\n",
       "        vertical-align: top;\n",
       "    }\n",
       "\n",
       "    .dataframe thead th {\n",
       "        text-align: right;\n",
       "    }\n",
       "</style>\n",
       "<table border=\"1\" class=\"dataframe\">\n",
       "  <thead>\n",
       "    <tr style=\"text-align: right;\">\n",
       "      <th></th>\n",
       "      <th>Gross</th>\n",
       "    </tr>\n",
       "    <tr>\n",
       "      <th>Genre</th>\n",
       "      <th></th>\n",
       "    </tr>\n",
       "  </thead>\n",
       "  <tbody>\n",
       "    <tr>\n",
       "      <td>Adventure</td>\n",
       "      <td>3931621099</td>\n",
       "    </tr>\n",
       "    <tr>\n",
       "      <td>Action</td>\n",
       "      <td>2897574987</td>\n",
       "    </tr>\n",
       "    <tr>\n",
       "      <td>Drama</td>\n",
       "      <td>1372163852</td>\n",
       "    </tr>\n",
       "    <tr>\n",
       "      <td>Thriller/Suspense</td>\n",
       "      <td>1189869794</td>\n",
       "    </tr>\n",
       "    <tr>\n",
       "      <td>Horror</td>\n",
       "      <td>748242329</td>\n",
       "    </tr>\n",
       "  </tbody>\n",
       "</table>\n",
       "</div>"
      ],
      "text/plain": [
       "                        Gross\n",
       "Genre                        \n",
       "Adventure          3931621099\n",
       "Action             2897574987\n",
       "Drama              1372163852\n",
       "Thriller/Suspense  1189869794\n",
       "Horror              748242329"
      ]
     },
     "execution_count": 315,
     "metadata": {},
     "output_type": "execute_result"
    }
   ],
   "source": [
    "genre = df[[\"Genre\", \"Gross\"]]\n",
    "genre_sum = genre.groupby(['Genre']).sum()\n",
    "genre_sum = genre_sum.sort_values(by = ['Gross'], ascending = False)\n",
    "genre_sum.head(5)"
   ]
  },
  {
   "cell_type": "markdown",
   "metadata": {},
   "source": [
    "## TOP 10 Distributors by Gross Income"
   ]
  },
  {
   "cell_type": "code",
   "execution_count": 316,
   "metadata": {
    "scrolled": false
   },
   "outputs": [
    {
     "data": {
      "text/html": [
       "<div>\n",
       "<style scoped>\n",
       "    .dataframe tbody tr th:only-of-type {\n",
       "        vertical-align: middle;\n",
       "    }\n",
       "\n",
       "    .dataframe tbody tr th {\n",
       "        vertical-align: top;\n",
       "    }\n",
       "\n",
       "    .dataframe thead th {\n",
       "        text-align: right;\n",
       "    }\n",
       "</style>\n",
       "<table border=\"1\" class=\"dataframe\">\n",
       "  <thead>\n",
       "    <tr style=\"text-align: right;\">\n",
       "      <th></th>\n",
       "      <th>Distributor</th>\n",
       "      <th>Gross</th>\n",
       "    </tr>\n",
       "  </thead>\n",
       "  <tbody>\n",
       "    <tr>\n",
       "      <td>0</td>\n",
       "      <td>Walt Disney</td>\n",
       "      <td>3803611686</td>\n",
       "    </tr>\n",
       "    <tr>\n",
       "      <td>1</td>\n",
       "      <td>Warner Bros.</td>\n",
       "      <td>1574147220</td>\n",
       "    </tr>\n",
       "    <tr>\n",
       "      <td>2</td>\n",
       "      <td>Sony Pictures</td>\n",
       "      <td>1374824330</td>\n",
       "    </tr>\n",
       "    <tr>\n",
       "      <td>3</td>\n",
       "      <td>Universal</td>\n",
       "      <td>1308647371</td>\n",
       "    </tr>\n",
       "    <tr>\n",
       "      <td>4</td>\n",
       "      <td>Lionsgate</td>\n",
       "      <td>797851162</td>\n",
       "    </tr>\n",
       "  </tbody>\n",
       "</table>\n",
       "</div>"
      ],
      "text/plain": [
       "     Distributor       Gross\n",
       "0    Walt Disney  3803611686\n",
       "1   Warner Bros.  1574147220\n",
       "2  Sony Pictures  1374824330\n",
       "3      Universal  1308647371\n",
       "4      Lionsgate   797851162"
      ]
     },
     "execution_count": 316,
     "metadata": {},
     "output_type": "execute_result"
    }
   ],
   "source": [
    "money_plt = money_sum.iloc[:10]\n",
    "money_plt = money_plt.reset_index()\n",
    "money_plt.head(5)"
   ]
  },
  {
   "cell_type": "code",
   "execution_count": 318,
   "metadata": {
    "scrolled": false
   },
   "outputs": [
    {
     "data": {
      "text/plain": [
       "Text(0.5, 1.0, 'Top 10 Distributor by Gross Income')"
      ]
     },
     "execution_count": 318,
     "metadata": {},
     "output_type": "execute_result"
    },
    {
     "data": {
      "image/png": "[encoded data removed]",
      "text/plain": [
       "<Figure size 1200x500 with 1 Axes>"
      ]
     },
     "metadata": {},
     "output_type": "display_data"
    }
   ],
   "source": [
    "rcParams['figure.figsize'] = 12, 5\n",
    "plt.rcParams.update({'font.size': 6})\n",
    "plt.bar(money_plt['Distributor'], money_plt['Gross'], align = 'center', alpha = 0.5)\n",
    "plt.ylabel('Gross income (in billion)')\n",
    "plt.title('Top 10 Distributor by Gross Income')"
   ]
  },
  {
   "cell_type": "markdown",
   "metadata": {},
   "source": [
    "#### Walt Disney Gross Income was the highest, even about 100% higher than the second distributor."
   ]
  },
  {
   "cell_type": "markdown",
   "metadata": {},
   "source": [
    "## Top 5 Distributors in Pie Chart"
   ]
  },
  {
   "cell_type": "code",
   "execution_count": 186,
   "metadata": {},
   "outputs": [
    {
     "name": "stderr",
     "output_type": "stream",
     "text": [
      "C:\\Users\\Admin\\Anaconda3\\lib\\site-packages\\ipykernel_launcher.py:2: SettingWithCopyWarning: \n",
      "A value is trying to be set on a copy of a slice from a DataFrame.\n",
      "Try using .loc[row_indexer,col_indexer] = value instead\n",
      "\n",
      "See the caveats in the documentation: http://pandas.pydata.org/pandas-docs/stable/user_guide/indexing.html#returning-a-view-versus-a-copy\n",
      "  \n"
     ]
    },
    {
     "data": {
      "text/html": [
       "<div>\n",
       "<style scoped>\n",
       "    .dataframe tbody tr th:only-of-type {\n",
       "        vertical-align: middle;\n",
       "    }\n",
       "\n",
       "    .dataframe tbody tr th {\n",
       "        vertical-align: top;\n",
       "    }\n",
       "\n",
       "    .dataframe thead th {\n",
       "        text-align: right;\n",
       "    }\n",
       "</style>\n",
       "<table border=\"1\" class=\"dataframe\">\n",
       "  <thead>\n",
       "    <tr style=\"text-align: right;\">\n",
       "      <th></th>\n",
       "      <th>Distributor</th>\n",
       "      <th>Gross</th>\n",
       "      <th>Percent</th>\n",
       "    </tr>\n",
       "  </thead>\n",
       "  <tbody>\n",
       "    <tr>\n",
       "      <td>0</td>\n",
       "      <td>Walt Disney</td>\n",
       "      <td>3803611686</td>\n",
       "      <td>42.934604</td>\n",
       "    </tr>\n",
       "    <tr>\n",
       "      <td>1</td>\n",
       "      <td>Warner Bros.</td>\n",
       "      <td>1574147220</td>\n",
       "      <td>17.768740</td>\n",
       "    </tr>\n",
       "    <tr>\n",
       "      <td>2</td>\n",
       "      <td>Sony Pictures</td>\n",
       "      <td>1374824330</td>\n",
       "      <td>15.518813</td>\n",
       "    </tr>\n",
       "    <tr>\n",
       "      <td>3</td>\n",
       "      <td>Universal</td>\n",
       "      <td>1308647371</td>\n",
       "      <td>14.771817</td>\n",
       "    </tr>\n",
       "    <tr>\n",
       "      <td>4</td>\n",
       "      <td>Lionsgate</td>\n",
       "      <td>797851162</td>\n",
       "      <td>9.006025</td>\n",
       "    </tr>\n",
       "  </tbody>\n",
       "</table>\n",
       "</div>"
      ],
      "text/plain": [
       "     Distributor       Gross    Percent\n",
       "0    Walt Disney  3803611686  42.934604\n",
       "1   Warner Bros.  1574147220  17.768740\n",
       "2  Sony Pictures  1374824330  15.518813\n",
       "3      Universal  1308647371  14.771817\n",
       "4      Lionsgate   797851162   9.006025"
      ]
     },
     "execution_count": 186,
     "metadata": {},
     "output_type": "execute_result"
    }
   ],
   "source": [
    "top5 = money_plt.iloc[:5]\n",
    "top5['Percent'] = top5.Gross/top5.Gross.sum()*100\n",
    "top5"
   ]
  },
  {
   "cell_type": "code",
   "execution_count": 190,
   "metadata": {
    "scrolled": false
   },
   "outputs": [
    {
     "data": {
      "image/png": "[encoded data removed]",
      "text/plain": [
       "<Figure size 1200x500 with 1 Axes>"
      ]
     },
     "metadata": {},
     "output_type": "display_data"
    }
   ],
   "source": [
    "pie_label = list(top5['Distributor'])\n",
    "pie_size = list(top5['Percent'])\n",
    "sep = (0.1,0,0,0,0)\n",
    "\n",
    "fig1, ax1 = plt.subplots()\n",
    "ax1.pie(pie_size, explode = sep, labels = pie_label, autopct = '%1.1f%%', shadow = True, startangle = 90)\n",
    "ax1.axis('equal')\n",
    "plt.show()"
   ]
  },
  {
   "cell_type": "markdown",
   "metadata": {},
   "source": [
    "#### Walt Disney dominated over 40 percentage of top 5 distributors's gross income in 2019."
   ]
  },
  {
   "cell_type": "markdown",
   "metadata": {},
   "source": [
    "## Scatter plot of Gross Income by Genre in 2019."
   ]
  },
  {
   "cell_type": "code",
   "execution_count": 319,
   "metadata": {
    "scrolled": true
   },
   "outputs": [
    {
     "data": {
      "text/html": [
       "<div>\n",
       "<style scoped>\n",
       "    .dataframe tbody tr th:only-of-type {\n",
       "        vertical-align: middle;\n",
       "    }\n",
       "\n",
       "    .dataframe tbody tr th {\n",
       "        vertical-align: top;\n",
       "    }\n",
       "\n",
       "    .dataframe thead th {\n",
       "        text-align: right;\n",
       "    }\n",
       "</style>\n",
       "<table border=\"1\" class=\"dataframe\">\n",
       "  <thead>\n",
       "    <tr style=\"text-align: right;\">\n",
       "      <th></th>\n",
       "      <th>Genre</th>\n",
       "      <th>Gross</th>\n",
       "    </tr>\n",
       "  </thead>\n",
       "  <tbody>\n",
       "    <tr>\n",
       "      <td>0</td>\n",
       "      <td></td>\n",
       "      <td>2.910700e+04</td>\n",
       "    </tr>\n",
       "    <tr>\n",
       "      <td>1</td>\n",
       "      <td>Action</td>\n",
       "      <td>5.268318e+07</td>\n",
       "    </tr>\n",
       "    <tr>\n",
       "      <td>2</td>\n",
       "      <td>Adventure</td>\n",
       "      <td>8.023717e+07</td>\n",
       "    </tr>\n",
       "    <tr>\n",
       "      <td>3</td>\n",
       "      <td>Black Comedy</td>\n",
       "      <td>1.919953e+07</td>\n",
       "    </tr>\n",
       "    <tr>\n",
       "      <td>4</td>\n",
       "      <td>Comedy</td>\n",
       "      <td>1.242642e+07</td>\n",
       "    </tr>\n",
       "  </tbody>\n",
       "</table>\n",
       "</div>"
      ],
      "text/plain": [
       "          Genre         Gross\n",
       "0                2.910700e+04\n",
       "1        Action  5.268318e+07\n",
       "2     Adventure  8.023717e+07\n",
       "3  Black Comedy  1.919953e+07\n",
       "4        Comedy  1.242642e+07"
      ]
     },
     "execution_count": 319,
     "metadata": {},
     "output_type": "execute_result"
    }
   ],
   "source": [
    "genre_avg = genre.groupby(['Genre']).mean()\n",
    "genre_avg = genre_avg.dropna()\n",
    "genre_avg = genre_avg.reset_index()\n",
    "genre_avg.head(5)"
   ]
  },
  {
   "cell_type": "code",
   "execution_count": 320,
   "metadata": {
    "scrolled": false
   },
   "outputs": [
    {
     "data": {
      "text/plain": [
       "<matplotlib.collections.PathCollection at 0x191cbe336c8>"
      ]
     },
     "execution_count": 320,
     "metadata": {},
     "output_type": "execute_result"
    },
    {
     "data": {
      "image/png": "[encoded data removed]",
      "text/plain": [
       "<Figure size 1200x500 with 1 Axes>"
      ]
     },
     "metadata": {},
     "output_type": "display_data"
    }
   ],
   "source": [
    "plt.scatter(list(genre['Genre']), list(genre['Gross']))"
   ]
  },
  {
   "cell_type": "markdown",
   "metadata": {},
   "source": [
    "#### The highest gross income in 2019 was Action movie. However, if we look at average, Adventure films did better than action films in total."
   ]
  },
  {
   "cell_type": "code",
   "execution_count": 321,
   "metadata": {},
   "outputs": [],
   "source": [
    "action = df[df.Genre == 'Action']\n",
    "action = action[['Distributor','Gross']]\n",
    "action_avg = action.groupby(['Distributor']).mean()\n",
    "action_avg = action_avg.sort_values(by = ['Gross'], ascending = False)\n",
    "action_avg = action_avg.iloc[:10]\n",
    "action_avg = action_avg.reset_index()"
   ]
  },
  {
   "cell_type": "code",
   "execution_count": 322,
   "metadata": {
    "scrolled": true
   },
   "outputs": [],
   "source": [
    "action_min = action.groupby('Distributor').min()\n",
    "action_max = action.groupby('Distributor').max()"
   ]
  },
  {
   "cell_type": "code",
   "execution_count": 323,
   "metadata": {},
   "outputs": [],
   "source": [
    "action_minmax = pd.DataFrame(columns = ['Distributor','min','max'])"
   ]
  },
  {
   "cell_type": "code",
   "execution_count": 324,
   "metadata": {
    "scrolled": true
   },
   "outputs": [
    {
     "data": {
      "text/html": [
       "<div>\n",
       "<style scoped>\n",
       "    .dataframe tbody tr th:only-of-type {\n",
       "        vertical-align: middle;\n",
       "    }\n",
       "\n",
       "    .dataframe tbody tr th {\n",
       "        vertical-align: top;\n",
       "    }\n",
       "\n",
       "    .dataframe thead th {\n",
       "        text-align: right;\n",
       "    }\n",
       "</style>\n",
       "<table border=\"1\" class=\"dataframe\">\n",
       "  <thead>\n",
       "    <tr style=\"text-align: right;\">\n",
       "      <th></th>\n",
       "      <th>Distributor</th>\n",
       "      <th>min</th>\n",
       "      <th>max</th>\n",
       "    </tr>\n",
       "  </thead>\n",
       "  <tbody>\n",
       "    <tr>\n",
       "      <td>20</td>\n",
       "      <td>Walt Disney</td>\n",
       "      <td>426829839</td>\n",
       "      <td>858373000</td>\n",
       "    </tr>\n",
       "    <tr>\n",
       "      <td>13</td>\n",
       "      <td>Paramount Pictures</td>\n",
       "      <td>48546770</td>\n",
       "      <td>62253077</td>\n",
       "    </tr>\n",
       "    <tr>\n",
       "      <td>6</td>\n",
       "      <td>FUNimation</td>\n",
       "      <td>30376755</td>\n",
       "      <td>30376755</td>\n",
       "    </tr>\n",
       "    <tr>\n",
       "      <td>16</td>\n",
       "      <td>Self Distributed</td>\n",
       "      <td>5875487</td>\n",
       "      <td>5875487</td>\n",
       "    </tr>\n",
       "    <tr>\n",
       "      <td>19</td>\n",
       "      <td>Viva Entertainment</td>\n",
       "      <td>2684911</td>\n",
       "      <td>2684911</td>\n",
       "    </tr>\n",
       "    <tr>\n",
       "      <td>21</td>\n",
       "      <td>Warner Bros.</td>\n",
       "      <td>2013136</td>\n",
       "      <td>140371656</td>\n",
       "    </tr>\n",
       "    <tr>\n",
       "      <td>18</td>\n",
       "      <td>Universal</td>\n",
       "      <td>1056865</td>\n",
       "      <td>173956935</td>\n",
       "    </tr>\n",
       "    <tr>\n",
       "      <td>11</td>\n",
       "      <td>Magnolia Pictures</td>\n",
       "      <td>847495</td>\n",
       "      <td>847495</td>\n",
       "    </tr>\n",
       "    <tr>\n",
       "      <td>23</td>\n",
       "      <td>Yash Raj Films</td>\n",
       "      <td>535000</td>\n",
       "      <td>3640355</td>\n",
       "    </tr>\n",
       "    <tr>\n",
       "      <td>14</td>\n",
       "      <td>Reliance Entertai…</td>\n",
       "      <td>461863</td>\n",
       "      <td>986339</td>\n",
       "    </tr>\n",
       "  </tbody>\n",
       "</table>\n",
       "</div>"
      ],
      "text/plain": [
       "           Distributor        min        max\n",
       "20         Walt Disney  426829839  858373000\n",
       "13  Paramount Pictures   48546770   62253077\n",
       "6           FUNimation   30376755   30376755\n",
       "16    Self Distributed    5875487    5875487\n",
       "19  Viva Entertainment    2684911    2684911\n",
       "21        Warner Bros.    2013136  140371656\n",
       "18           Universal    1056865  173956935\n",
       "11   Magnolia Pictures     847495     847495\n",
       "23      Yash Raj Films     535000    3640355\n",
       "14  Reliance Entertai…     461863     986339"
      ]
     },
     "execution_count": 324,
     "metadata": {},
     "output_type": "execute_result"
    }
   ],
   "source": [
    "action_minmax['Distributor'] = action_min.index\n",
    "action_minmax['min'] = list(action_min['Gross'])\n",
    "action_minmax['max'] = list(action_max['Gross'])\n",
    "action_minmax = action_minmax.sort_values(by = ['min'], ascending = False)\n",
    "action_minmax = action_minmax.iloc[:10]\n",
    "action_minmax"
   ]
  },
  {
   "cell_type": "markdown",
   "metadata": {},
   "source": [
    "#### The minimum and maximum of Walt Disney's action films were more than the second distributor by digit."
   ]
  },
  {
   "cell_type": "markdown",
   "metadata": {},
   "source": [
    "## Min and Max Gross Income in action movies by Distributors."
   ]
  },
  {
   "cell_type": "code",
   "execution_count": 325,
   "metadata": {
    "scrolled": false
   },
   "outputs": [
    {
     "data": {
      "image/png": "[encoded data removed]",
      "text/plain": [
       "<Figure size 1200x500 with 1 Axes>"
      ]
     },
     "metadata": {},
     "output_type": "display_data"
    }
   ],
   "source": [
    "m_range = range(1,len(action_minmax.index)+1)\n",
    "plt.hlines(y = m_range, xmin = list(action_minmax['min']), xmax = list(action_minmax['max']), color = 'grey', alpha = 0.4)\n",
    "plt.scatter(list(action_minmax['min']), m_range, color = 'skyblue', alpha = 1, label = 'min')\n",
    "plt.scatter(list(action_minmax['max']), m_range, color = 'green', alpha = 0.3, label = 'max')\n",
    "plt.legend()\n",
    "\n",
    "plt.yticks(m_range, list(action_minmax['Distributor']))\n",
    "plt.title(\"min,max gross income by distributor\")\n",
    "plt.xlabel(\"Gross Income\")\n",
    "plt.ylabel(\"Distributor\")\n",
    "plt.show()"
   ]
  },
  {
   "cell_type": "markdown",
   "metadata": {},
   "source": [
    "#### Walt Disney clearly dominated in Action films in 2019."
   ]
  },
  {
   "cell_type": "code",
   "execution_count": 272,
   "metadata": {},
   "outputs": [],
   "source": [
    "disney1 = disney[['Genre','Gross']]"
   ]
  },
  {
   "cell_type": "code",
   "execution_count": 273,
   "metadata": {},
   "outputs": [],
   "source": [
    "disney_min = disney1.groupby('Genre').min()\n",
    "disney_max = disney1.groupby('Genre').max()"
   ]
  },
  {
   "cell_type": "code",
   "execution_count": 276,
   "metadata": {},
   "outputs": [
    {
     "data": {
      "text/html": [
       "<div>\n",
       "<style scoped>\n",
       "    .dataframe tbody tr th:only-of-type {\n",
       "        vertical-align: middle;\n",
       "    }\n",
       "\n",
       "    .dataframe tbody tr th {\n",
       "        vertical-align: top;\n",
       "    }\n",
       "\n",
       "    .dataframe thead th {\n",
       "        text-align: right;\n",
       "    }\n",
       "</style>\n",
       "<table border=\"1\" class=\"dataframe\">\n",
       "  <thead>\n",
       "    <tr style=\"text-align: right;\">\n",
       "      <th></th>\n",
       "      <th>Genre</th>\n",
       "      <th>min</th>\n",
       "      <th>max</th>\n",
       "    </tr>\n",
       "  </thead>\n",
       "  <tbody>\n",
       "    <tr>\n",
       "      <td>0</td>\n",
       "      <td>Action</td>\n",
       "      <td>426829839</td>\n",
       "      <td>858373000</td>\n",
       "    </tr>\n",
       "    <tr>\n",
       "      <td>3</td>\n",
       "      <td>Musical</td>\n",
       "      <td>33141176</td>\n",
       "      <td>33141176</td>\n",
       "    </tr>\n",
       "    <tr>\n",
       "      <td>2</td>\n",
       "      <td>Documentary</td>\n",
       "      <td>7699452</td>\n",
       "      <td>7699452</td>\n",
       "    </tr>\n",
       "    <tr>\n",
       "      <td>1</td>\n",
       "      <td>Adventure</td>\n",
       "      <td>73093</td>\n",
       "      <td>543638043</td>\n",
       "    </tr>\n",
       "  </tbody>\n",
       "</table>\n",
       "</div>"
      ],
      "text/plain": [
       "         Genre        min        max\n",
       "0       Action  426829839  858373000\n",
       "3      Musical   33141176   33141176\n",
       "2  Documentary    7699452    7699452\n",
       "1    Adventure      73093  543638043"
      ]
     },
     "execution_count": 276,
     "metadata": {},
     "output_type": "execute_result"
    }
   ],
   "source": [
    "disney2 = pd.DataFrame(columns = ['Genre','min','max'])\n",
    "disney2['Genre'] = disney_min.index\n",
    "disney2['min'] = list(disney_min['Gross'])\n",
    "disney2['max'] = list(disney_max['Gross'])\n",
    "disney2 = disney2.sort_values(by = ['min'], ascending = False)\n",
    "disney2"
   ]
  },
  {
   "cell_type": "markdown",
   "metadata": {},
   "source": [
    "## Min and Max Gross Income by Genre of Walt Disney's movies in 2019."
   ]
  },
  {
   "cell_type": "code",
   "execution_count": 277,
   "metadata": {
    "scrolled": false
   },
   "outputs": [
    {
     "data": {
      "image/png": "[encoded data removed]",
      "text/plain": [
       "<Figure size 640x480 with 1 Axes>"
      ]
     },
     "metadata": {},
     "output_type": "display_data"
    }
   ],
   "source": [
    "m_range = range(1,len(disney2.index)+1)\n",
    "plt.hlines(y = m_range, xmin = list(disney2['min']), xmax = list(disney2['max']), color = 'grey', alpha = 0.4)\n",
    "plt.scatter(list(disney2['min']), m_range, color = 'skyblue', alpha = 1, label = 'min')\n",
    "plt.scatter(list(disney2['max']), m_range, color = 'green', alpha = 0.3, label = 'max')\n",
    "plt.legend()\n",
    "\n",
    "plt.yticks(m_range, list(disney2['Genre']))\n",
    "plt.title(\"min and max gross income by Genre at Walt Disney\")\n",
    "plt.xlabel(\"Gross Income\")\n",
    "plt.ylabel(\"Genre\")\n",
    "plt.show()"
   ]
  },
  {
   "cell_type": "markdown",
   "metadata": {},
   "source": [
    "#### Walt Disney did great in Adventure and Action films but not so good in Documentary and Musical films."
   ]
  },
  {
   "cell_type": "markdown",
   "metadata": {},
   "source": [
    "## Findings"
   ]
  },
  {
   "cell_type": "markdown",
   "metadata": {},
   "source": [
    "From this analysis, we can see that Walt Disney dominated in movie industry. It have the highest amount of movie in 2019 and also highest gross income movie is from Walt Disney. In top 10, Walt Disney has 7 out of it. Even in top 5 distributors by gross incomes, Walt Disney has overall 40 percentage of the gross income from that top 5. The second place is Warner Bros. which has only about 18 percentage. To see in the clear picture, the first graph shows how clearly Walt Disney dominated is market. \n",
    " \n",
    "For Genre perspective, Adventure and Action have the highest gross income from all genres. From the second graph (scatter plot), we can see that Action, Adventure and Thriller are top 3 of gross income by genre. So I decided to analyze more into action movies.\n",
    " \n",
    "In action movies, we can see from the fourth graph that Walt Disney also dominated in action films, it earned above 4 billion dollar at minimum and over 8 billion dollar at maximum when action movies from Universal and Warner Bros. didn't even go pass 2 billion dollar. So I decided to look at each genre gross income of Walt Disney film.\n",
    "the last graph show that Walt Disney did not do well in Documentary and Musical films but in Adventure and Action films, they did it very well."
   ]
  },
  {
   "cell_type": "markdown",
   "metadata": {},
   "source": [
    "## Recommendations"
   ]
  },
  {
   "cell_type": "markdown",
   "metadata": {},
   "source": [
    "For companies that looking to sponsor movies and want people to see their advertisement the most, I recommend to focus on Walt Disney movies that are Action films or Adventure films. However, if the price is too high and not worth it, I also recommend Warn Bros., Sony Pictures and Universal. Also, I recommend to try to focus on Action films, Adventure films and Thriller/Suspense films."
   ]
  },
  {
   "cell_type": "code",
   "execution_count": null,
   "metadata": {},
   "outputs": [],
   "source": []
  }
 ],
 "metadata": {
  "kernelspec": {
   "display_name": "Python 3",
   "language": "python",
   "name": "python3"
  },
  "language_info": {
   "codemirror_mode": {
    "name": "ipython",
    "version": 3
   },
   "file_extension": ".py",
   "mimetype": "text/x-python",
   "name": "python",
   "nbconvert_exporter": "python",
   "pygments_lexer": "ipython3",
   "version": "3.7.4"
  }
 },
 "nbformat": 4,
 "nbformat_minor": 2
}
